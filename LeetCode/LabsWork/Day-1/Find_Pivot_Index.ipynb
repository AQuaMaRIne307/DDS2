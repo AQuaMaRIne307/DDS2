{
  "nbformat": 4,
  "nbformat_minor": 0,
  "metadata": {
    "colab": {
      "provenance": [],
      "authorship_tag": "ABX9TyNU47TBOJg14GCRUyA8CmE/",
      "include_colab_link": true
    },
    "kernelspec": {
      "name": "python3",
      "display_name": "Python 3"
    },
    "language_info": {
      "name": "python"
    }
  },
  "cells": [
    {
      "cell_type": "markdown",
      "metadata": {
        "id": "view-in-github",
        "colab_type": "text"
      },
      "source": [
        "<a href=\"https://colab.research.google.com/github/AQuaMaRIne307/DDS2/blob/main/LeetCode/LabsWork/Day-1/Find_Pivot_Index.ipynb\" target=\"_parent\"><img src=\"https://colab.research.google.com/assets/colab-badge.svg\" alt=\"Open In Colab\"/></a>"
      ]
    },
    {
      "cell_type": "code",
      "source": [
        "def pivot_index(nums):\n",
        "    total_sum = sum(nums)\n",
        "    left_sum = 0\n",
        "\n",
        "    for i, num in enumerate(nums):\n",
        "        right_sum = total_sum - left_sum - num\n",
        "        if left_sum == right_sum:\n",
        "            return i\n",
        "        left_sum += num\n",
        "\n",
        "    return -1\n",
        "\n",
        "# Example usage\n",
        "nums = [1, 7, 3, 6, 5, 6]\n",
        "print(pivot_index(nums))  # Output: 3"
      ],
      "metadata": {
        "colab": {
          "base_uri": "https://localhost:8080/"
        },
        "id": "jH0tmxYOE72O",
        "outputId": "ab16096b-13db-46ce-e23c-f88e1c39407d"
      },
      "execution_count": 17,
      "outputs": [
        {
          "output_type": "stream",
          "name": "stdout",
          "text": [
            "3\n"
          ]
        }
      ]
    }
  ]
}