{
  "nbformat": 4,
  "nbformat_minor": 0,
  "metadata": {
    "colab": {
      "provenance": [],
      "authorship_tag": "ABX9TyMGVREBVgZLKzqi8WgMh9ya",
      "include_colab_link": true
    },
    "kernelspec": {
      "name": "python3",
      "display_name": "Python 3"
    },
    "language_info": {
      "name": "python"
    }
  },
  "cells": [
    {
      "cell_type": "markdown",
      "metadata": {
        "id": "view-in-github",
        "colab_type": "text"
      },
      "source": [
        "<a href=\"https://colab.research.google.com/github/AQuaMaRIne307/DDS2/blob/main/LeetCode/LabWork/Day-1/Valid_Parentheses(H.W).ipynb\" target=\"_parent\"><img src=\"https://colab.research.google.com/assets/colab-badge.svg\" alt=\"Open In Colab\"/></a>"
      ]
    },
    {
      "cell_type": "code",
      "execution_count": 1,
      "metadata": {
        "colab": {
          "base_uri": "https://localhost:8080/"
        },
        "id": "qJLvrfToqtgE",
        "outputId": "25322a01-a35b-466a-cb72-91daad7cd875"
      },
      "outputs": [
        {
          "output_type": "stream",
          "name": "stdout",
          "text": [
            "Enter the bracket string: ({[]})\n",
            "Valid\n"
          ]
        }
      ],
      "source": [
        "s = input(\"Enter the bracket string: \")\n",
        "\n",
        "stack = []\n",
        "mapping = {')': '(', '}': '{', ']': '['}\n",
        "\n",
        "is_valid = True\n",
        "for char in s:\n",
        "    if char in mapping:\n",
        "        top_element = stack.pop() if stack else '#'\n",
        "        if mapping[char] != top_element:\n",
        "            is_valid = False\n",
        "            break\n",
        "    else:\n",
        "        stack.append(char)\n",
        "\n",
        "if stack:\n",
        "    is_valid = False\n",
        "\n",
        "print(\"Valid\" if is_valid else \"Invalid\")\n"
      ]
    }
  ]
}