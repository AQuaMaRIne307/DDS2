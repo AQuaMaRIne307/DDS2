{
  "nbformat": 4,
  "nbformat_minor": 0,
  "metadata": {
    "colab": {
      "provenance": [],
      "authorship_tag": "ABX9TyPSmKY595dLqsZTLxdItL9Z",
      "include_colab_link": true
    },
    "kernelspec": {
      "name": "python3",
      "display_name": "Python 3"
    },
    "language_info": {
      "name": "python"
    }
  },
  "cells": [
    {
      "cell_type": "markdown",
      "metadata": {
        "id": "view-in-github",
        "colab_type": "text"
      },
      "source": [
        "<a href=\"https://colab.research.google.com/github/AQuaMaRIne307/DDS2/blob/main/LeetCode/LabWork/Day-1/Find_Pivot_Index.ipynb\" target=\"_parent\"><img src=\"https://colab.research.google.com/assets/colab-badge.svg\" alt=\"Open In Colab\"/></a>"
      ]
    },
    {
      "cell_type": "code",
      "source": [
        "nums = [1, 7, 3, 6, 5, 6]\n",
        "\n",
        "total_sum = sum(nums)\n",
        "left_sum = 0\n",
        "\n",
        "for i, num in enumerate(nums):\n",
        "    right_sum = total_sum - left_sum - num\n",
        "    if left_sum == right_sum:\n",
        "        print(i)\n",
        "        break\n",
        "    left_sum += num\n",
        "else:\n",
        "    print(-1)"
      ],
      "metadata": {
        "colab": {
          "base_uri": "https://localhost:8080/"
        },
        "id": "jH0tmxYOE72O",
        "outputId": "af868db9-ade0-4298-96d4-e9f001ff3559"
      },
      "execution_count": null,
      "outputs": [
        {
          "output_type": "stream",
          "name": "stdout",
          "text": [
            "3\n"
          ]
        }
      ]
    }
  ]
}