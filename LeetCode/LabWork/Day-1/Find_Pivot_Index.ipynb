{
  "nbformat": 4,
  "nbformat_minor": 0,
  "metadata": {
    "colab": {
      "provenance": [],
      "authorship_tag": "ABX9TyP/071gr3Q0IP+nWyTLmmfs",
      "include_colab_link": true
    },
    "kernelspec": {
      "name": "python3",
      "display_name": "Python 3"
    },
    "language_info": {
      "name": "python"
    }
  },
  "cells": [
    {
      "cell_type": "markdown",
      "metadata": {
        "id": "view-in-github",
        "colab_type": "text"
      },
      "source": [
        "<a href=\"https://colab.research.google.com/github/AQuaMaRIne307/DDS2/blob/main/LeetCode/LabWork/Day-1/Find_Pivot_Index.ipynb\" target=\"_parent\"><img src=\"https://colab.research.google.com/assets/colab-badge.svg\" alt=\"Open In Colab\"/></a>"
      ]
    },
    {
      "cell_type": "code",
      "execution_count": 4,
      "metadata": {
        "colab": {
          "base_uri": "https://localhost:8080/"
        },
        "id": "CXdGY1_Z3j2m",
        "outputId": "f3ed77a1-a476-4aa3-8d74-7efb0040c99b"
      },
      "outputs": [
        {
          "output_type": "stream",
          "name": "stdout",
          "text": [
            "0\n",
            "3\n"
          ]
        }
      ],
      "source": [
        "L = [3,2,2,3]\n",
        "t=3\n",
        "for i in range(len(L)):\n",
        "  if t == L[i]:\n",
        "    print(i)"
      ]
    },
    {
      "cell_type": "code",
      "source": [
        "L = [3,2,2,3]\n",
        "t = 3\n",
        "k = 0\n",
        "for i in range(len(L)):\n",
        "  if L[i] != t:\n",
        "    L[k] = L[i]\n",
        "    k += 1\n",
        "print(k)\n",
        "print(L)"
      ],
      "metadata": {
        "colab": {
          "base_uri": "https://localhost:8080/"
        },
        "id": "9-7Y_EJC5vTO",
        "outputId": "de7f8105-49c2-4ca3-fb97-293b6a7b702a"
      },
      "execution_count": 9,
      "outputs": [
        {
          "output_type": "stream",
          "name": "stdout",
          "text": [
            "2\n",
            "[2, 2, 2, 3]\n"
          ]
        }
      ]
    },
    {
      "cell_type": "code",
      "source": [
        "L = [3,2,2,3]\n",
        "t = 3\n",
        "k = 0\n",
        "for i in range(len(L)):\n",
        "  if L[i] != t:\n",
        "    L[k] = L[i]\n",
        "    k += 1\n",
        "print(k)\n",
        "print(L)"
      ],
      "metadata": {
        "id": "I7fwKvTd9DXW"
      },
      "execution_count": null,
      "outputs": []
    },
    {
      "cell_type": "code",
      "source": [
        "from typing import List\n",
        "\n",
        "class Solution:\n",
        "    def removeElement(self, nums: List[int], val: int) -> int:\n",
        "        k = 0\n",
        "        for i in range(len(nums)):\n",
        "            if nums[i] != val:\n",
        "                nums[k] = nums[i]\n",
        "                k += 1\n",
        "        return k"
      ],
      "metadata": {
        "id": "WjBujGK09lR1"
      },
      "execution_count": 16,
      "outputs": []
    },
    {
      "cell_type": "code",
      "source": [
        "def pivot_index(nums):\n",
        "    total_sum = sum(nums)\n",
        "    left_sum = 0\n",
        "\n",
        "    for i, num in enumerate(nums):\n",
        "        right_sum = total_sum - left_sum - num\n",
        "        if left_sum == right_sum:\n",
        "            return i\n",
        "        left_sum += num\n",
        "\n",
        "    return -1\n",
        "\n",
        "# Example usage\n",
        "nums = [1, 7, 3, 6, 5, 6]\n",
        "print(pivot_index(nums))  # Output: 3"
      ],
      "metadata": {
        "colab": {
          "base_uri": "https://localhost:8080/"
        },
        "id": "jH0tmxYOE72O",
        "outputId": "ab16096b-13db-46ce-e23c-f88e1c39407d"
      },
      "execution_count": 17,
      "outputs": [
        {
          "output_type": "stream",
          "name": "stdout",
          "text": [
            "3\n"
          ]
        }
      ]
    }
  ]
}