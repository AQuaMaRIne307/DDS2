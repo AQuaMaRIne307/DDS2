{
  "nbformat": 4,
  "nbformat_minor": 0,
  "metadata": {
    "colab": {
      "provenance": [],
      "authorship_tag": "ABX9TyOulcRincvwbVCyQd8YEB5Q",
      "include_colab_link": true
    },
    "kernelspec": {
      "name": "python3",
      "display_name": "Python 3"
    },
    "language_info": {
      "name": "python"
    }
  },
  "cells": [
    {
      "cell_type": "markdown",
      "metadata": {
        "id": "view-in-github",
        "colab_type": "text"
      },
      "source": [
        "<a href=\"https://colab.research.google.com/github/AQuaMaRIne307/DDS2/blob/main/Lab/Recursion_Factorial%2C_GCD%2C_FIbonnaciipynb.ipynb\" target=\"_parent\"><img src=\"https://colab.research.google.com/assets/colab-badge.svg\" alt=\"Open In Colab\"/></a>"
      ]
    },
    {
      "cell_type": "markdown",
      "source": [
        "# **Recursion: Factorial, GCD, FIbonnaci**"
      ],
      "metadata": {
        "id": "P9xHwF_h5evy"
      }
    },
    {
      "cell_type": "markdown",
      "source": [
        "# **Factorial**"
      ],
      "metadata": {
        "id": "6XAaAELREt9U"
      }
    },
    {
      "cell_type": "markdown",
      "source": [
        "**Using Loop**"
      ],
      "metadata": {
        "id": "8QafYk8B_fIb"
      }
    },
    {
      "cell_type": "code",
      "execution_count": 1,
      "metadata": {
        "colab": {
          "base_uri": "https://localhost:8080/"
        },
        "id": "Sh-gBPGS5IsS",
        "outputId": "e8b7ddff-c168-4c13-dda0-b3704de3d234"
      },
      "outputs": [
        {
          "output_type": "stream",
          "name": "stdout",
          "text": [
            "120\n"
          ]
        }
      ],
      "source": [
        "def factorial(n):\n",
        "    if n < 0:\n",
        "        return \"Factorial is not defined for negative numbers.\"\n",
        "    result = 1\n",
        "    for i in range(1, n + 1):\n",
        "        result *= i\n",
        "    return result\n",
        "\n",
        "print(factorial(5))"
      ]
    },
    {
      "cell_type": "markdown",
      "source": [
        "**Using Recursion**"
      ],
      "metadata": {
        "id": "zYN-u2FG_XcD"
      }
    },
    {
      "cell_type": "code",
      "source": [
        "def factorial(n):\n",
        "    if n < 0:\n",
        "        return \"Factorial is not defined for negative numbers.\"\n",
        "    if n == 0 or n == 1:\n",
        "        return 1\n",
        "    return n * factorial(n - 1)\n",
        "\n",
        "print(factorial(5))"
      ],
      "metadata": {
        "colab": {
          "base_uri": "https://localhost:8080/"
        },
        "id": "0YRGk_xq_Uxj",
        "outputId": "8fa6e108-88f7-47de-c9b3-183662d84661"
      },
      "execution_count": 2,
      "outputs": [
        {
          "output_type": "stream",
          "name": "stdout",
          "text": [
            "120\n"
          ]
        }
      ]
    },
    {
      "cell_type": "markdown",
      "source": [
        "**C++ Code**"
      ],
      "metadata": {
        "id": "IpRbTUeD_567"
      }
    },
    {
      "cell_type": "code",
      "source": [
        "%%writefile fact.cpp\n",
        "\n",
        "#include <iostream>\n",
        "using namespace std;\n",
        "\n",
        "int factorial(int n) {\n",
        "    if (n == 1 || n == 0)\n",
        "        return 1;\n",
        "    else\n",
        "        return n * factorial(n - 1);\n",
        "}\n",
        "\n",
        "int main() {\n",
        "    int num = 5;\n",
        "    cout << \"Factorial of \" << num << \" is \" << factorial(num) << endl;\n",
        "    return 0;\n",
        "}"
      ],
      "metadata": {
        "colab": {
          "base_uri": "https://localhost:8080/"
        },
        "id": "xenZor6Q_ski",
        "outputId": "26961bd0-eb67-4522-d1c6-1209ca2b7128"
      },
      "execution_count": 12,
      "outputs": [
        {
          "output_type": "stream",
          "name": "stdout",
          "text": [
            "Writing fact.cpp\n"
          ]
        }
      ]
    },
    {
      "cell_type": "code",
      "source": [
        "!g++ fact.cpp -o fact"
      ],
      "metadata": {
        "id": "hnTGbhZp_v9D"
      },
      "execution_count": 13,
      "outputs": []
    },
    {
      "cell_type": "code",
      "source": [
        "!./fact"
      ],
      "metadata": {
        "colab": {
          "base_uri": "https://localhost:8080/"
        },
        "id": "tlDpQ5H0_zkT",
        "outputId": "459d7b3b-41f8-4ef7-fed1-27f7bef1d256"
      },
      "execution_count": 14,
      "outputs": [
        {
          "output_type": "stream",
          "name": "stdout",
          "text": [
            "Factorial of 5 is 120\n"
          ]
        }
      ]
    },
    {
      "cell_type": "markdown",
      "source": [
        "# **Greatest Common Divisor (GCD)**"
      ],
      "metadata": {
        "id": "KD7raeakEizT"
      }
    },
    {
      "cell_type": "markdown",
      "source": [
        "**The Euclidean Alogorithm**"
      ],
      "metadata": {
        "id": "aRuWQbdTF9u8"
      }
    },
    {
      "cell_type": "code",
      "source": [
        "def find_gcd(a,b):\n",
        "  while b != 0:\n",
        "    a, b = b, a % b\n",
        "  return a\n",
        "\n",
        "a = 36\n",
        "b = 12\n",
        "\n",
        "print(\"GCD is:\", find_gcd(a,b))"
      ],
      "metadata": {
        "colab": {
          "base_uri": "https://localhost:8080/"
        },
        "id": "S37-qpkVErc8",
        "outputId": "97c0628f-37dd-4ff7-a089-493589c80db5"
      },
      "execution_count": 19,
      "outputs": [
        {
          "output_type": "stream",
          "name": "stdout",
          "text": [
            "GCD is: 12\n"
          ]
        }
      ]
    },
    {
      "cell_type": "markdown",
      "source": [
        "**Recursive Function For GCD**"
      ],
      "metadata": {
        "id": "aOLPWU9WGOE0"
      }
    },
    {
      "cell_type": "code",
      "source": [
        "def gcd(a, b):\n",
        "    if b == 0:\n",
        "        return a\n",
        "    else:\n",
        "        return gcd(b, a % b)\n",
        "\n",
        "a = 48\n",
        "b = 18\n",
        "print(\"GCD is:\", gcd(a, b))"
      ],
      "metadata": {
        "colab": {
          "base_uri": "https://localhost:8080/"
        },
        "id": "m225o4_QGM1s",
        "outputId": "ab4c8bef-17e7-435a-e7b6-b9999f77b1f9"
      },
      "execution_count": 18,
      "outputs": [
        {
          "output_type": "stream",
          "name": "stdout",
          "text": [
            "GCD is: 6\n"
          ]
        }
      ]
    },
    {
      "cell_type": "markdown",
      "source": [
        "**C++ Code**"
      ],
      "metadata": {
        "id": "Dgt_m5vwHyMM"
      }
    },
    {
      "cell_type": "code",
      "source": [
        "%%writefile Rgcd.cpp\n",
        "\n",
        "#include <iostream>\n",
        "using namespace std;\n",
        "\n",
        "int gcd(int a, int b) {\n",
        "    if (b == 0)\n",
        "        return a;\n",
        "    else\n",
        "        return gcd(b, a % b);\n",
        "}\n",
        "\n",
        "int main(){\n",
        "    int a = 55;\n",
        "    int b = 33;\n",
        "    cout << \"GCD is: \" << gcd(a, b) << endl;\n",
        "    return 0;\n",
        "}"
      ],
      "metadata": {
        "colab": {
          "base_uri": "https://localhost:8080/"
        },
        "id": "iuqx4-4NG1wM",
        "outputId": "e74f6486-5a46-4639-db2c-fefd93acfb86"
      },
      "execution_count": 32,
      "outputs": [
        {
          "output_type": "stream",
          "name": "stdout",
          "text": [
            "Overwriting Rgcd.cpp\n"
          ]
        }
      ]
    },
    {
      "cell_type": "code",
      "source": [
        "!g++ Rgcd.cpp -o Rgcd"
      ],
      "metadata": {
        "id": "hPH58amaHW1t"
      },
      "execution_count": 33,
      "outputs": []
    },
    {
      "cell_type": "code",
      "source": [
        "!./Rgcd"
      ],
      "metadata": {
        "colab": {
          "base_uri": "https://localhost:8080/"
        },
        "id": "fkd1cb-1HbAl",
        "outputId": "2b96c69a-60f0-490a-cedc-afc1a1bd106c"
      },
      "execution_count": 34,
      "outputs": [
        {
          "output_type": "stream",
          "name": "stdout",
          "text": [
            "GCD is: 11\n"
          ]
        }
      ]
    },
    {
      "cell_type": "markdown",
      "source": [
        "# **Fibonacci**"
      ],
      "metadata": {
        "id": "XwlDFqIRH5v0"
      }
    },
    {
      "cell_type": "code",
      "source": [
        "def fibonacci(n):\n",
        "    fibS = []\n",
        "    a, b = 0, 1\n",
        "    for _ in range(n):\n",
        "        fibS.append(a)\n",
        "        a, b = b, a + b\n",
        "    return fibS\n",
        "\n",
        "t = int(input(\"Enter the number of terms: \"))\n",
        "print(f\"Fibonacci sequence up to {t} terms:\")\n",
        "print(fibonacci(t))"
      ],
      "metadata": {
        "colab": {
          "base_uri": "https://localhost:8080/"
        },
        "id": "wnOI-yt0IDiM",
        "outputId": "795846f1-af7a-43c6-b181-9d8f0145b66c"
      },
      "execution_count": 36,
      "outputs": [
        {
          "output_type": "stream",
          "name": "stdout",
          "text": [
            "Enter the number of terms: 9\n",
            "Fibonacci sequence up to 9 terms:\n",
            "[0, 1, 1, 2, 3, 5, 8, 13, 21]\n"
          ]
        }
      ]
    },
    {
      "cell_type": "code",
      "source": [
        "%%writefile fibonacci.cpp\n",
        "#include<iostream>\n",
        "using namespace std;\n",
        "\n",
        "void fibonacci(int n){\n",
        "  int a = 0,b = 1,nxt;\n",
        "\n",
        "  for(int i = 0; i < n; i++){\n",
        "    cout << a << \" \";\n",
        "    nxt = a + b;\n",
        "    a = b;\n",
        "    b = nxt;\n",
        "  }\n",
        "  cout << endl;\n",
        "}\n",
        "\n",
        "int main(){\n",
        "  int n;\n",
        "  fibonacci(n);\n",
        "  cout << \"Enter the number of terms: \";\n",
        "  cin >> n;\n",
        "  cout << \"Fibonacci sequence up to \" << n << \" terms:\" << endl;\n",
        "  fibonacci(n);\n",
        "  return 0;\n",
        "}"
      ],
      "metadata": {
        "colab": {
          "base_uri": "https://localhost:8080/"
        },
        "id": "HHMnQxIHIjFN",
        "outputId": "edc6aa6c-05f0-4954-ba14-27841d057fc0"
      },
      "execution_count": 37,
      "outputs": [
        {
          "output_type": "stream",
          "name": "stdout",
          "text": [
            "Writing fibonacci.cpp\n"
          ]
        }
      ]
    },
    {
      "cell_type": "code",
      "source": [
        "!g++ fibonacci.cpp -o fibonacci"
      ],
      "metadata": {
        "id": "wSM2nt07Jeqe"
      },
      "execution_count": 38,
      "outputs": []
    },
    {
      "cell_type": "code",
      "source": [
        "!./fibonacci"
      ],
      "metadata": {
        "colab": {
          "base_uri": "https://localhost:8080/"
        },
        "id": "xc4BDhbdJl6d",
        "outputId": "6fb8a9af-154d-4616-c38c-e071120558e2"
      },
      "execution_count": 39,
      "outputs": [
        {
          "output_type": "stream",
          "name": "stdout",
          "text": [
            "\n",
            "Enter the number of terms: 9\n",
            "Fibonacci sequence up to 9 terms:\n",
            "0 1 1 2 3 5 8 13 21 \n"
          ]
        }
      ]
    }
  ]
}