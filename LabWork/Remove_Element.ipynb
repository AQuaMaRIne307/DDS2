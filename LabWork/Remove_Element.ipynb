{
  "nbformat": 4,
  "nbformat_minor": 0,
  "metadata": {
    "colab": {
      "provenance": [],
      "authorship_tag": "ABX9TyOwIv3yQcLv/ct2qf+MBKm6",
      "include_colab_link": true
    },
    "kernelspec": {
      "name": "python3",
      "display_name": "Python 3"
    },
    "language_info": {
      "name": "python"
    }
  },
  "cells": [
    {
      "cell_type": "markdown",
      "metadata": {
        "id": "view-in-github",
        "colab_type": "text"
      },
      "source": [
        "<a href=\"https://colab.research.google.com/github/AQuaMaRIne307/DDS2/blob/main/LabWork/Remove_Element.ipynb\" target=\"_parent\"><img src=\"https://colab.research.google.com/assets/colab-badge.svg\" alt=\"Open In Colab\"/></a>"
      ]
    },
    {
      "cell_type": "code",
      "execution_count": 4,
      "metadata": {
        "colab": {
          "base_uri": "https://localhost:8080/"
        },
        "id": "CXdGY1_Z3j2m",
        "outputId": "f3ed77a1-a476-4aa3-8d74-7efb0040c99b"
      },
      "outputs": [
        {
          "output_type": "stream",
          "name": "stdout",
          "text": [
            "0\n",
            "3\n"
          ]
        }
      ],
      "source": [
        "L = [3,2,2,3]\n",
        "t=3\n",
        "for i in range(len(L)):\n",
        "  if t == L[i]:\n",
        "    print(i)"
      ]
    },
    {
      "cell_type": "code",
      "source": [
        "L = [3,2,2,3]\n",
        "t = 3\n",
        "k = 0\n",
        "for i in range(len(L)):\n",
        "  if L[i] != t:\n",
        "    L[k] = L[i]\n",
        "    k += 1\n",
        "print(k)\n",
        "print(L)"
      ],
      "metadata": {
        "colab": {
          "base_uri": "https://localhost:8080/"
        },
        "id": "9-7Y_EJC5vTO",
        "outputId": "de7f8105-49c2-4ca3-fb97-293b6a7b702a"
      },
      "execution_count": 9,
      "outputs": [
        {
          "output_type": "stream",
          "name": "stdout",
          "text": [
            "2\n",
            "[2, 2, 2, 3]\n"
          ]
        }
      ]
    },
    {
      "cell_type": "code",
      "source": [
        "L = [3,2,2,3]\n",
        "t = 3\n",
        "k = 0\n",
        "for i in range(len(L)):\n",
        "  if L[i] != t:\n",
        "    L[k] = L[i]\n",
        "    k += 1\n",
        "print(k)\n",
        "print(L)"
      ],
      "metadata": {
        "id": "I7fwKvTd9DXW"
      },
      "execution_count": null,
      "outputs": []
    },
    {
      "cell_type": "code",
      "source": [
        "from typing import List\n",
        "\n",
        "class Solution:\n",
        "    def removeElement(self, nums: List[int], val: int) -> int:\n",
        "        k = 0\n",
        "        for i in range(len(nums)):\n",
        "            if nums[i] != val:\n",
        "                nums[k] = nums[i]\n",
        "                k += 1\n",
        "        return k"
      ],
      "metadata": {
        "id": "WjBujGK09lR1"
      },
      "execution_count": 16,
      "outputs": []
    }
  ]
}